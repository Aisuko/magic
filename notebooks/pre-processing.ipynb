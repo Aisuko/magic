{
 "cells": [
  {
   "cell_type": "code",
   "execution_count": 3,
   "metadata": {},
   "outputs": [
    {
     "name": "stdout",
     "output_type": "stream",
     "text": [
      "Traceback (most recent call last):\n",
      "  File \"/home/ubuntu/workspace/MAGIC/utils/trace_parser.py\", line 246, in <module>\n",
      "    read_graphs(args.dataset)\n",
      "  File \"/home/ubuntu/workspace/MAGIC/utils/trace_parser.py\", line 186, in read_graphs\n",
      "    f = open(malicious_entities, 'r')\n",
      "FileNotFoundError: [Errno 2] No such file or directory: '../data/trace/trace.txt'\n"
     ]
    }
   ],
   "source": [
    "!python /home/ubuntu/workspace/MAGIC/utils/trace_parser.py"
   ]
  }
 ],
 "metadata": {
  "kernelspec": {
   "display_name": "clinical_multimodal",
   "language": "python",
   "name": "python3"
  },
  "language_info": {
   "codemirror_mode": {
    "name": "ipython",
    "version": 3
   },
   "file_extension": ".py",
   "mimetype": "text/x-python",
   "name": "python",
   "nbconvert_exporter": "python",
   "pygments_lexer": "ipython3",
   "version": "3.9.16"
  }
 },
 "nbformat": 4,
 "nbformat_minor": 2
}
