{
 "cells": [
  {
   "cell_type": "code",
   "execution_count": null,
   "metadata": {},
   "outputs": [],
   "source": [
    "import gdown\n",
    "\n",
    "# ta1-trace-e3-official-1.json.tar.gz\n",
    "urls = [\"https://drive.google.com/file/d/1GG1aUnPjjzzdbxznVTN8X6oVfA-K4oIV/view?usp=drive_link\"]\n",
    "\n",
    "for url in urls:\n",
    "    gdown.download(url, quiet=False, use_cookies=False, fuzzy=True)"
   ]
  },
  {
   "cell_type": "code",
   "execution_count": null,
   "metadata": {},
   "outputs": [
    {
     "name": "stdout",
     "output_type": "stream",
     "text": [
      "ta1-trace-e3-official-1.json\n",
      "ta1-trace-e3-official-1.json.1\n",
      "ta1-trace-e3-official-1.json.2\n",
      "ta1-trace-e3-official-1.json.3\n",
      "ta1-trace-e3-official-1.json.4\n",
      "ta1-trace-e3-official-1.json.5\n",
      "ta1-trace-e3-official-1.json.6\n"
     ]
    }
   ],
   "source": [
    "!tar -xzvf ta1-trace-e3-official-1.json.tar.gz -C ../data/trace/"
   ]
  },
  {
   "cell_type": "code",
   "execution_count": 2,
   "metadata": {},
   "outputs": [
    {
     "name": "stdout",
     "output_type": "stream",
     "text": [
      "--2024-12-11 05:03:32--  https://raw.githubusercontent.com/threaTrace-detector/threaTrace/refs/heads/master/groundtruth/trace.txt\n",
      "Resolving raw.githubusercontent.com (raw.githubusercontent.com)... 185.199.109.133, 185.199.110.133, 185.199.108.133, ...\n",
      "Connecting to raw.githubusercontent.com (raw.githubusercontent.com)|185.199.109.133|:443... connected.\n",
      "HTTP request sent, awaiting response... 200 OK\n",
      "Length: 2525805 (2.4M) [text/plain]\n",
      "Saving to: ‘../data/trace/trace.txt’\n",
      "\n",
      "trace.txt           100%[===================>]   2.41M  --.-KB/s    in 0.009s  \n",
      "\n",
      "2024-12-11 05:03:34 (283 MB/s) - ‘../data/trace/trace.txt’ saved [2525805/2525805]\n",
      "\n"
     ]
    }
   ],
   "source": [
    "# download ground truth for trace dataset\n",
    "!wget -P ../data/trace https://raw.githubusercontent.com/threaTrace-detector/threaTrace/refs/heads/master/groundtruth/trace.txt"
   ]
  },
  {
   "cell_type": "code",
   "execution_count": null,
   "metadata": {},
   "outputs": [],
   "source": [
    "import gdown\n",
    "\n",
    "url_theia=\"https://drive.google.com/file/d/1Kadc6CUTb4opVSDE4x6RFFnEy0P1cRp0/view?usp=drive_link\"\n",
    "\n",
    "gdown.download(url_theia, quiet=False, use_cookies=False, fuzzy=True)"
   ]
  },
  {
   "cell_type": "markdown",
   "metadata": {},
   "source": [
    "# Theia dataset"
   ]
  },
  {
   "cell_type": "code",
   "execution_count": 8,
   "metadata": {},
   "outputs": [
    {
     "name": "stdout",
     "output_type": "stream",
     "text": [
      "ta1-theia-e3-official-6r.json\n",
      "ta1-theia-e3-official-6r.json.1\n",
      "ta1-theia-e3-official-6r.json.10\n",
      "ta1-theia-e3-official-6r.json.11\n",
      "ta1-theia-e3-official-6r.json.12\n",
      "ta1-theia-e3-official-6r.json.2\n",
      "ta1-theia-e3-official-6r.json.3\n",
      "ta1-theia-e3-official-6r.json.4\n",
      "ta1-theia-e3-official-6r.json.5\n",
      "ta1-theia-e3-official-6r.json.6\n",
      "ta1-theia-e3-official-6r.json.7\n",
      "ta1-theia-e3-official-6r.json.8\n",
      "ta1-theia-e3-official-6r.json.9\n"
     ]
    }
   ],
   "source": [
    "!tar -xzvf ta1-theia-e3-official-6r.json.tar.gz -C ../data/theia/"
   ]
  },
  {
   "cell_type": "code",
   "execution_count": 9,
   "metadata": {},
   "outputs": [
    {
     "name": "stdout",
     "output_type": "stream",
     "text": [
      "--2024-12-16 04:38:58--  https://raw.githubusercontent.com/threaTrace-detector/threaTrace/refs/heads/master/groundtruth/theia.txt\n",
      "Resolving raw.githubusercontent.com (raw.githubusercontent.com)... 185.199.110.133, 185.199.111.133, 185.199.108.133, ...\n",
      "Connecting to raw.githubusercontent.com (raw.githubusercontent.com)|185.199.110.133|:443... connected.\n",
      "HTTP request sent, awaiting response... 200 OK\n",
      "Length: 938431 (916K) [text/plain]\n",
      "Saving to: ‘../data/theia/theia.txt’\n",
      "\n",
      "theia.txt           100%[===================>] 916.44K  --.-KB/s    in 0.006s  \n",
      "\n",
      "2024-12-16 04:38:59 (158 MB/s) - ‘../data/theia/theia.txt’ saved [938431/938431]\n",
      "\n"
     ]
    }
   ],
   "source": [
    "!wget -P ../data/theia https://raw.githubusercontent.com/threaTrace-detector/threaTrace/refs/heads/master/groundtruth/theia.txt"
   ]
  }
 ],
 "metadata": {
  "kernelspec": {
   "display_name": "py310",
   "language": "python",
   "name": "python3"
  },
  "language_info": {
   "codemirror_mode": {
    "name": "ipython",
    "version": 3
   },
   "file_extension": ".py",
   "mimetype": "text/x-python",
   "name": "python",
   "nbconvert_exporter": "python",
   "pygments_lexer": "ipython3",
   "version": "3.10.16"
  }
 },
 "nbformat": 4,
 "nbformat_minor": 2
}
