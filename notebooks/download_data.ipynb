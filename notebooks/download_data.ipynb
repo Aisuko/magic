{
 "cells": [
  {
   "cell_type": "code",
   "execution_count": 1,
   "metadata": {},
   "outputs": [
    {
     "name": "stderr",
     "output_type": "stream",
     "text": [
      "Downloading...\n",
      "From (original): https://drive.google.com/uc?id=1GG1aUnPjjzzdbxznVTN8X6oVfA-K4oIV\n",
      "From (redirected): https://drive.google.com/uc?id=1GG1aUnPjjzzdbxznVTN8X6oVfA-K4oIV&confirm=t&uuid=8512fe6a-a421-4e8e-a6c5-e0671a9e6b6e\n",
      "To: /home/ubuntu/workspace/MAGIC/notebooks/ta1-trace-e3-official-1.json.tar.gz\n",
      "100%|██████████| 1.28G/1.28G [01:15<00:00, 17.0MB/s]\n"
     ]
    }
   ],
   "source": [
    "import gdown\n",
    "\n",
    "# ta1-trace-e3-official-1.json.tar.gz\n",
    "urls = [\"https://drive.google.com/file/d/1GG1aUnPjjzzdbxznVTN8X6oVfA-K4oIV/view?usp=drive_link\"]\n",
    "\n",
    "for url in urls:\n",
    "    gdown.download(url, quiet=False, use_cookies=False, fuzzy=True)"
   ]
  },
  {
   "cell_type": "code",
   "execution_count": null,
   "metadata": {},
   "outputs": [
    {
     "name": "stdout",
     "output_type": "stream",
     "text": [
      "ta1-trace-e3-official-1.json\n",
      "ta1-trace-e3-official-1.json.1\n",
      "ta1-trace-e3-official-1.json.2\n",
      "ta1-trace-e3-official-1.json.3\n",
      "ta1-trace-e3-official-1.json.4\n",
      "ta1-trace-e3-official-1.json.5\n",
      "ta1-trace-e3-official-1.json.6\n"
     ]
    }
   ],
   "source": [
    "!tar -xzvf ta1-trace-e3-official-1.json.tar.gz -C ../data/trace/"
   ]
  },
  {
   "cell_type": "code",
   "execution_count": 2,
   "metadata": {},
   "outputs": [
    {
     "name": "stdout",
     "output_type": "stream",
     "text": [
      "--2024-12-11 05:03:32--  https://raw.githubusercontent.com/threaTrace-detector/threaTrace/refs/heads/master/groundtruth/trace.txt\n",
      "Resolving raw.githubusercontent.com (raw.githubusercontent.com)... 185.199.109.133, 185.199.110.133, 185.199.108.133, ...\n",
      "Connecting to raw.githubusercontent.com (raw.githubusercontent.com)|185.199.109.133|:443... connected.\n",
      "HTTP request sent, awaiting response... 200 OK\n",
      "Length: 2525805 (2.4M) [text/plain]\n",
      "Saving to: ‘../data/trace/trace.txt’\n",
      "\n",
      "trace.txt           100%[===================>]   2.41M  --.-KB/s    in 0.009s  \n",
      "\n",
      "2024-12-11 05:03:34 (283 MB/s) - ‘../data/trace/trace.txt’ saved [2525805/2525805]\n",
      "\n"
     ]
    }
   ],
   "source": [
    "# download ground truth for trace dataset\n",
    "!wget -P ../data/trace https://raw.githubusercontent.com/threaTrace-detector/threaTrace/refs/heads/master/groundtruth/trace.txt"
   ]
  }
 ],
 "metadata": {
  "kernelspec": {
   "display_name": "clinical_multimodal",
   "language": "python",
   "name": "python3"
  },
  "language_info": {
   "codemirror_mode": {
    "name": "ipython",
    "version": 3
   },
   "file_extension": ".py",
   "mimetype": "text/x-python",
   "name": "python",
   "nbconvert_exporter": "python",
   "pygments_lexer": "ipython3",
   "version": "3.9.16"
  }
 },
 "nbformat": 4,
 "nbformat_minor": 2
}
